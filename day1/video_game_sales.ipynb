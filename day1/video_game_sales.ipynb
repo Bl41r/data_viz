{
 "cells": [
  {
   "cell_type": "markdown",
   "metadata": {},
   "source": [
    "## This is the video game sales assignment - David Smith\n",
    "data: https://www.kaggle.com/gregorut/videogamesales"
   ]
  },
  {
   "cell_type": "code",
   "execution_count": 1,
   "metadata": {
    "collapsed": true
   },
   "outputs": [],
   "source": [
    "import csv"
   ]
  },
  {
   "cell_type": "markdown",
   "metadata": {},
   "source": [
    "### first, process the data"
   ]
  },
  {
   "cell_type": "code",
   "execution_count": 2,
   "metadata": {
    "collapsed": false
   },
   "outputs": [
    {
     "name": "stdout",
     "output_type": "stream",
     "text": [
      "['Rank', 'Name', 'Platform', 'Year', 'Genre', 'Publisher', 'NA_Sales', 'EU_Sales', 'JP_Sales', 'Other_Sales', 'Global_Sales']\n"
     ]
    }
   ],
   "source": [
    "data = {}\n",
    "with open('vgsales.csv', newline='') as csvfile:\n",
    "    reader = csv.reader(csvfile, delimiter=',', quotechar='|')\n",
    "    for i, row in enumerate(reader):\n",
    "        if i > 0:\n",
    "            try:\n",
    "                entry = {'name': row[1], 'platform': row[2], 'year': int(row[3]), 'genre': row[4], 'publisher': row[5], 'na_sales': float(row[6]), 'eu_sales': float(row[7]), 'jp_sales': float(row[8]), 'other_sales': float(row[9]), 'global_sales': float(row[10])}\n",
    "                data[row[0]] = entry\n",
    "            except: pass\n",
    "        else:\n",
    "            print(row) # show us the column titles"
   ]
  },
  {
   "cell_type": "markdown",
   "metadata": {},
   "source": [
    "### Find the mode of publisher"
   ]
  },
  {
   "cell_type": "code",
   "execution_count": 3,
   "metadata": {
    "collapsed": true
   },
   "outputs": [],
   "source": [
    "from collections import Counter"
   ]
  },
  {
   "cell_type": "markdown",
   "metadata": {},
   "source": [
    "#### check our data structure"
   ]
  },
  {
   "cell_type": "code",
   "execution_count": 4,
   "metadata": {
    "collapsed": false,
    "scrolled": true
   },
   "outputs": [
    {
     "data": {
      "text/plain": [
       "{'eu_sales': 0.16,\n",
       " 'genre': 'Action',\n",
       " 'global_sales': 0.41,\n",
       " 'jp_sales': 0.0,\n",
       " 'na_sales': 0.21,\n",
       " 'name': 'Naughty Bear',\n",
       " 'other_sales': 0.04,\n",
       " 'platform': 'X360',\n",
       " 'publisher': '505 Games',\n",
       " 'year': 2010}"
      ]
     },
     "execution_count": 4,
     "metadata": {},
     "output_type": "execute_result"
    }
   ],
   "source": [
    "data['4760']"
   ]
  },
  {
   "cell_type": "code",
   "execution_count": 5,
   "metadata": {
    "collapsed": true
   },
   "outputs": [],
   "source": [
    "publishers = [data[entry]['publisher'] for entry in data]\n",
    "counter = Counter(publishers)\n",
    "max_count = max(counter.values())\n",
    "mode = ([k for k,v in counter.items() if v == max_count], max_count)"
   ]
  },
  {
   "cell_type": "markdown",
   "metadata": {},
   "source": [
    "#### aha!"
   ]
  },
  {
   "cell_type": "code",
   "execution_count": 6,
   "metadata": {
    "collapsed": false
   },
   "outputs": [
    {
     "data": {
      "text/plain": [
       "[('Electronic Arts', 1339),\n",
       " ('Activision', 952),\n",
       " ('Namco Bandai Games', 927),\n",
       " ('Ubisoft', 915),\n",
       " ('Konami Digital Entertainment', 820)]"
      ]
     },
     "execution_count": 6,
     "metadata": {},
     "output_type": "execute_result"
    }
   ],
   "source": [
    "mode\n",
    "counter.most_common()[:5]"
   ]
  },
  {
   "cell_type": "markdown",
   "metadata": {},
   "source": [
    "### Next, find mode of platform"
   ]
  },
  {
   "cell_type": "code",
   "execution_count": 7,
   "metadata": {
    "collapsed": true
   },
   "outputs": [],
   "source": [
    "max_count = max(Counter([data[entry]['platform'] for entry in data]).values())"
   ]
  },
  {
   "cell_type": "code",
   "execution_count": 8,
   "metadata": {
    "collapsed": false
   },
   "outputs": [
    {
     "data": {
      "text/plain": [
       "[('PS2', 2110), ('DS', 2107), ('PS3', 1298), ('Wii', 1282), ('X360', 1228)]"
      ]
     },
     "execution_count": 8,
     "metadata": {},
     "output_type": "execute_result"
    }
   ],
   "source": [
    "mode_platform = ([k for k,v in Counter([data[entry]['platform'] for entry in data]).items() if v == max_count], max_count)\n",
    "Counter([data[entry]['platform'] for entry in data]).most_common()[:5]"
   ]
  },
  {
   "cell_type": "markdown",
   "metadata": {},
   "source": [
    "#### aha!"
   ]
  },
  {
   "cell_type": "code",
   "execution_count": 9,
   "metadata": {
    "collapsed": false
   },
   "outputs": [
    {
     "data": {
      "text/plain": [
       "(['PS2'], 2110)"
      ]
     },
     "execution_count": 9,
     "metadata": {},
     "output_type": "execute_result"
    }
   ],
   "source": [
    "mode_platform"
   ]
  },
  {
   "cell_type": "markdown",
   "metadata": {},
   "source": [
    "### and the same for genre"
   ]
  },
  {
   "cell_type": "code",
   "execution_count": 10,
   "metadata": {
    "collapsed": true
   },
   "outputs": [],
   "source": [
    "max_count = max(Counter([data[entry]['genre'] for entry in data]).values())"
   ]
  },
  {
   "cell_type": "code",
   "execution_count": 11,
   "metadata": {
    "collapsed": false
   },
   "outputs": [
    {
     "data": {
      "text/plain": [
       "[('Action', 3232),\n",
       " ('Sports', 2298),\n",
       " ('Misc', 1688),\n",
       " ('Role-Playing', 1463),\n",
       " ('Shooter', 1268)]"
      ]
     },
     "execution_count": 11,
     "metadata": {},
     "output_type": "execute_result"
    }
   ],
   "source": [
    "mode_genre = ([k for k,v in Counter([data[entry]['genre'] for entry in data]).items() if v == max_count], max_count)\n",
    "Counter([data[entry]['genre'] for entry in data]).most_common()[:5]"
   ]
  },
  {
   "cell_type": "markdown",
   "metadata": {},
   "source": [
    "#### like magic!"
   ]
  },
  {
   "cell_type": "code",
   "execution_count": 12,
   "metadata": {
    "collapsed": false
   },
   "outputs": [
    {
     "data": {
      "text/plain": [
       "(['Action'], 3232)"
      ]
     },
     "execution_count": 12,
     "metadata": {},
     "output_type": "execute_result"
    }
   ],
   "source": [
    "mode_genre"
   ]
  },
  {
   "cell_type": "markdown",
   "metadata": {},
   "source": [
    "### For North American video game sales, what’s the median?"
   ]
  },
  {
   "cell_type": "code",
   "execution_count": 13,
   "metadata": {
    "collapsed": true
   },
   "outputs": [],
   "source": [
    "list_of_sales = sorted([(data[entry]['name'], data[entry]['na_sales'], data[entry]['global_sales']) for entry in data], key=lambda x: x[1])"
   ]
  },
  {
   "cell_type": "code",
   "execution_count": 14,
   "metadata": {
    "collapsed": false
   },
   "outputs": [
    {
     "name": "stdout",
     "output_type": "stream",
     "text": [
      "median NA sales: Midnight Mysteries: The Edgar Allan Poe Conspiracy 0.08 million copies sold\n"
     ]
    }
   ],
   "source": [
    "median_index = int(len(list_of_sales) / 2)\n",
    "median_na = list_of_sales[median_index]\n",
    "print('median NA sales:', median_na[0], median_na[1], 'million copies sold')"
   ]
  },
  {
   "cell_type": "markdown",
   "metadata": {},
   "source": [
    "### For the top-selling game of all time, how many standard deviations above/below the mean are its sales for North America?"
   ]
  },
  {
   "cell_type": "markdown",
   "metadata": {},
   "source": [
    "#### first, let's find the std. deviation"
   ]
  },
  {
   "cell_type": "code",
   "execution_count": 15,
   "metadata": {
    "collapsed": false
   },
   "outputs": [
    {
     "name": "stdout",
     "output_type": "stream",
     "text": [
      "0.26650808342589277\n"
     ]
    }
   ],
   "source": [
    "mean_na_sales = sum([item[1] for item in list_of_sales]) / len(list_of_sales)\n",
    "print(mean_na_sales)"
   ]
  },
  {
   "cell_type": "markdown",
   "metadata": {},
   "source": [
    "#### this data is a bit messy"
   ]
  },
  {
   "cell_type": "code",
   "execution_count": 16,
   "metadata": {
    "collapsed": false
   },
   "outputs": [],
   "source": [
    "for index,i in enumerate(list_of_sales):\n",
    "    if list_of_sales[index][1] > 42:\n",
    "        print(list_of_sales[index], index)\n",
    "        list_of_sales.pop(index)\n",
    "        index -= 1"
   ]
  },
  {
   "cell_type": "code",
   "execution_count": 17,
   "metadata": {
    "collapsed": false
   },
   "outputs": [
    {
     "data": {
      "text/plain": [
       "41.49"
      ]
     },
     "execution_count": 17,
     "metadata": {},
     "output_type": "execute_result"
    }
   ],
   "source": [
    "max([i[1] for i in list_of_sales])"
   ]
  },
  {
   "cell_type": "code",
   "execution_count": 18,
   "metadata": {
    "collapsed": true
   },
   "outputs": [],
   "source": [
    "std_dev_na = (sum((item[1] - mean_na_sales) ** 2 for item in list_of_sales) / len(list_of_sales)) ** 0.5"
   ]
  },
  {
   "cell_type": "code",
   "execution_count": 19,
   "metadata": {
    "collapsed": false
   },
   "outputs": [
    {
     "data": {
      "text/plain": [
       "0.8244171420567773"
      ]
     },
     "execution_count": 19,
     "metadata": {},
     "output_type": "execute_result"
    }
   ],
   "source": [
    "std_dev_na"
   ]
  },
  {
   "cell_type": "code",
   "execution_count": 20,
   "metadata": {
    "collapsed": false
   },
   "outputs": [
    {
     "data": {
      "text/plain": [
       "50.00319597155473"
      ]
     },
     "execution_count": 20,
     "metadata": {},
     "output_type": "execute_result"
    }
   ],
   "source": [
    "(41.49 - mean_na_sales) / std_dev_na"
   ]
  },
  {
   "cell_type": "markdown",
   "metadata": {
    "collapsed": true
   },
   "source": [
    "# now with NumPy!"
   ]
  },
  {
   "cell_type": "code",
   "execution_count": 21,
   "metadata": {
    "collapsed": false
   },
   "outputs": [
    {
     "name": "stderr",
     "output_type": "stream",
     "text": [
      "/home/david/codefellows/501/ENV/lib/python3.5/site-packages/numpy/lib/npyio.py:1772: ConversionWarning: Some errors were detected !\n",
      "    Line #945 (got 12 columns instead of 11)\n",
      "    Line #1093 (got 12 columns instead of 11)\n",
      "    Line #1628 (got 12 columns instead of 11)\n",
      "    Line #1835 (got 14 columns instead of 11)\n",
      "    Line #2411 (got 12 columns instead of 11)\n",
      "    Line #2890 (got 12 columns instead of 11)\n",
      "    Line #2920 (got 13 columns instead of 11)\n",
      "    Line #3051 (got 12 columns instead of 11)\n",
      "    Line #3091 (got 14 columns instead of 11)\n",
      "    Line #3218 (got 13 columns instead of 11)\n",
      "    Line #3329 (got 14 columns instead of 11)\n",
      "    Line #3413 (got 14 columns instead of 11)\n",
      "    Line #3465 (got 13 columns instead of 11)\n",
      "    Line #3525 (got 12 columns instead of 11)\n",
      "    Line #3552 (got 2 columns instead of 11)\n",
      "    Line #3573 (got 12 columns instead of 11)\n",
      "    Line #3758 (got 12 columns instead of 11)\n",
      "    Line #3906 (got 13 columns instead of 11)\n",
      "    Line #3913 (got 13 columns instead of 11)\n",
      "    Line #4045 (got 13 columns instead of 11)\n",
      "    Line #4062 (got 13 columns instead of 11)\n",
      "    Line #4182 (got 12 columns instead of 11)\n",
      "    Line #4247 (got 12 columns instead of 11)\n",
      "    Line #4280 (got 12 columns instead of 11)\n",
      "    Line #4418 (got 13 columns instead of 11)\n",
      "    Line #4458 (got 13 columns instead of 11)\n",
      "    Line #4506 (got 12 columns instead of 11)\n",
      "    Line #4543 (got 13 columns instead of 11)\n",
      "    Line #4703 (got 13 columns instead of 11)\n",
      "    Line #4768 (got 12 columns instead of 11)\n",
      "    Line #4791 (got 14 columns instead of 11)\n",
      "    Line #5110 (got 12 columns instead of 11)\n",
      "    Line #5226 (got 12 columns instead of 11)\n",
      "    Line #5524 (got 12 columns instead of 11)\n",
      "    Line #5549 (got 12 columns instead of 11)\n",
      "    Line #5622 (got 13 columns instead of 11)\n",
      "    Line #5658 (got 12 columns instead of 11)\n",
      "    Line #5689 (got 12 columns instead of 11)\n",
      "    Line #5836 (got 13 columns instead of 11)\n",
      "    Line #6060 (got 12 columns instead of 11)\n",
      "    Line #6061 (got 12 columns instead of 11)\n",
      "    Line #6197 (got 12 columns instead of 11)\n",
      "    Line #6448 (got 12 columns instead of 11)\n",
      "    Line #6576 (got 13 columns instead of 11)\n",
      "    Line #6741 (got 12 columns instead of 11)\n",
      "    Line #6830 (got 12 columns instead of 11)\n",
      "    Line #7534 (got 12 columns instead of 11)\n",
      "    Line #7594 (got 12 columns instead of 11)\n",
      "    Line #7615 (got 12 columns instead of 11)\n",
      "    Line #7755 (got 12 columns instead of 11)\n",
      "    Line #7859 (got 12 columns instead of 11)\n",
      "    Line #8024 (got 12 columns instead of 11)\n",
      "    Line #8425 (got 13 columns instead of 11)\n",
      "    Line #8661 (got 12 columns instead of 11)\n",
      "    Line #8729 (got 12 columns instead of 11)\n",
      "    Line #8966 (got 12 columns instead of 11)\n",
      "    Line #8988 (got 2 columns instead of 11)\n",
      "    Line #9006 (got 12 columns instead of 11)\n",
      "    Line #9152 (got 12 columns instead of 11)\n",
      "    Line #9509 (got 12 columns instead of 11)\n",
      "    Line #9597 (got 12 columns instead of 11)\n",
      "    Line #9688 (got 12 columns instead of 11)\n",
      "    Line #9703 (got 12 columns instead of 11)\n",
      "    Line #9874 (got 12 columns instead of 11)\n",
      "    Line #10061 (got 12 columns instead of 11)\n",
      "    Line #10204 (got 13 columns instead of 11)\n",
      "    Line #10381 (got 2 columns instead of 11)\n",
      "    Line #10680 (got 12 columns instead of 11)\n",
      "    Line #10694 (got 12 columns instead of 11)\n",
      "    Line #10731 (got 12 columns instead of 11)\n",
      "    Line #10753 (got 13 columns instead of 11)\n",
      "    Line #10904 (got 12 columns instead of 11)\n",
      "    Line #11071 (got 12 columns instead of 11)\n",
      "    Line #11280 (got 13 columns instead of 11)\n",
      "    Line #11369 (got 12 columns instead of 11)\n",
      "    Line #11415 (got 12 columns instead of 11)\n",
      "    Line #11435 (got 12 columns instead of 11)\n",
      "    Line #11487 (got 12 columns instead of 11)\n",
      "    Line #11661 (got 12 columns instead of 11)\n",
      "    Line #11910 (got 13 columns instead of 11)\n",
      "    Line #11932 (got 12 columns instead of 11)\n",
      "    Line #11942 (got 12 columns instead of 11)\n",
      "    Line #12238 (got 12 columns instead of 11)\n",
      "    Line #12747 (got 12 columns instead of 11)\n",
      "    Line #12777 (got 12 columns instead of 11)\n",
      "    Line #12862 (got 12 columns instead of 11)\n",
      "    Line #12864 (got 12 columns instead of 11)\n",
      "    Line #13008 (got 12 columns instead of 11)\n",
      "    Line #13141 (got 12 columns instead of 11)\n",
      "    Line #13184 (got 12 columns instead of 11)\n",
      "    Line #13490 (got 12 columns instead of 11)\n",
      "    Line #13599 (got 12 columns instead of 11)\n",
      "    Line #14001 (got 14 columns instead of 11)\n",
      "    Line #14072 (got 12 columns instead of 11)\n",
      "    Line #14157 (got 12 columns instead of 11)\n",
      "    Line #14223 (got 12 columns instead of 11)\n",
      "    Line #14534 (got 13 columns instead of 11)\n",
      "    Line #14590 (got 2 columns instead of 11)\n",
      "    Line #14729 (got 12 columns instead of 11)\n",
      "    Line #14779 (got 12 columns instead of 11)\n",
      "    Line #14977 (got 12 columns instead of 11)\n",
      "    Line #14986 (got 12 columns instead of 11)\n",
      "    Line #15182 (got 12 columns instead of 11)\n",
      "    Line #15279 (got 12 columns instead of 11)\n",
      "    Line #15364 (got 12 columns instead of 11)\n",
      "    Line #15482 (got 13 columns instead of 11)\n",
      "    Line #15487 (got 12 columns instead of 11)\n",
      "    Line #15621 (got 12 columns instead of 11)\n",
      "    Line #15723 (got 12 columns instead of 11)\n",
      "    Line #15790 (got 12 columns instead of 11)\n",
      "    Line #15808 (got 2 columns instead of 11)\n",
      "    Line #15900 (got 12 columns instead of 11)\n",
      "    Line #15957 (got 12 columns instead of 11)\n",
      "    Line #16062 (got 12 columns instead of 11)\n",
      "    Line #16083 (got 12 columns instead of 11)\n",
      "    Line #16088 (got 12 columns instead of 11)\n",
      "    Line #16109 (got 2 columns instead of 11)\n",
      "    Line #16150 (got 12 columns instead of 11)\n",
      "    Line #16163 (got 2 columns instead of 11)\n",
      "    Line #16264 (got 12 columns instead of 11)\n",
      "    Line #16374 (got 12 columns instead of 11)\n",
      "    Line #16411 (got 12 columns instead of 11)\n",
      "    Line #16412 (got 12 columns instead of 11)\n",
      "    Line #16420 (got 12 columns instead of 11)\n",
      "    Line #16447 (got 12 columns instead of 11)\n",
      "    Line #16462 (got 13 columns instead of 11)\n",
      "    Line #16469 (got 2 columns instead of 11)\n",
      "    Line #16479 (got 12 columns instead of 11)\n",
      "    Line #16503 (got 13 columns instead of 11)\n",
      "    Line #16566 (got 12 columns instead of 11)\n",
      "  warnings.warn(errmsg, ConversionWarning)\n"
     ]
    },
    {
     "data": {
      "text/plain": [
       "array([ (1, '', None, '2006', 'Sports', 'Nintendo', '41.49', '29.02', '3.77', '8.46', '82.74'),\n",
       "       (2, '', None, '1985', 'Platform', 'Nintendo', '29.08', '3.58', '6.81', '0.77', '40.24'),\n",
       "       (3, '', None, '2008', 'Racing', 'Nintendo', '15.85', '12.88', '3.79', '3.31', '35.82'),\n",
       "       ...,\n",
       "       (16598, '', None, '2008', 'Racing', 'Activision', '0', '0', '0', '0', '0.01'),\n",
       "       (16599, '', None, '2010', 'Puzzle', '7G//AMES', '0', '0.01', '0', '0', '0.01'),\n",
       "       (16600, '', None, '2003', 'Platform', 'Wanadoo', '0.01', '0', '0', '0', '0.01')], \n",
       "      dtype=[('f0', '<i8'), ('f1', '<U'), ('f2', 'O'), ('f3', '<U20'), ('f4', '<U20'), ('f5', '<U20'), ('f6', '<U20'), ('f7', '<U20'), ('f8', '<U20'), ('f9', '<U20'), ('f10', '<U20')])"
      ]
     },
     "execution_count": 21,
     "metadata": {},
     "output_type": "execute_result"
    }
   ],
   "source": [
    "import numpy as np\n",
    "# the converters fixes a unicode decod error that was plagueing me!\n",
    "np.genfromtxt('vgsales.csv', delimiter=',', unpack=True, dtype='U20', invalid_raise=False, skip_header= 1, converters={0: lambda x: int(x), 1:lambda x: x.decode('utf8'), 2: lambda x: int(x)})"
   ]
  },
  {
   "cell_type": "code",
   "execution_count": 22,
   "metadata": {
    "collapsed": false
   },
   "outputs": [],
   "source": [
    "# gah continue later, screw this for now!"
   ]
  },
  {
   "cell_type": "markdown",
   "metadata": {
    "collapsed": true
   },
   "source": [
    "- Show a scatter of Nintendo’s sales across all regions for each year.  Make each region a different color."
   ]
  },
  {
   "cell_type": "code",
   "execution_count": 23,
   "metadata": {
    "collapsed": false
   },
   "outputs": [
    {
     "data": {
      "image/png": "[encoded data removed]",
      "text/plain": [
       "<matplotlib.figure.Figure at 0x7f7a4ccf80f0>"
      ]
     },
     "metadata": {},
     "output_type": "display_data"
    }
   ],
   "source": [
    "dates = [data[entry]['year'] for entry in data]\n",
    "x = np.array(range(min(dates), max(dates)))\n",
    "y_global, y_eu, y_na, y_other, y_jp = [], [], [], [], []\n",
    "\n",
    "for year in x:\n",
    "    sales_global, sales_eu, sales_na, sales_other, sales_jp = 0, 0, 0, 0, 0\n",
    "    for entry in data:\n",
    "        if (data[entry]['year'] == year) & (data[entry]['publisher'] == 'Nintendo'):\n",
    "            sales_global += data[entry]['global_sales']\n",
    "            sales_eu += data[entry]['eu_sales']\n",
    "            sales_na += data[entry]['na_sales']\n",
    "            sales_other += data[entry]['other_sales']\n",
    "            sales_jp += data[entry]['jp_sales']\n",
    "    y_global.append(sales_global)\n",
    "    y_eu.append(sales_eu)\n",
    "    y_na.append(sales_na)\n",
    "    y_other.append(sales_other)\n",
    "    y_jp.append(sales_jp)\n",
    "\n",
    "import matplotlib.pyplot as plt\n",
    "\n",
    "plt.scatter(x, y_global, s=10, color='blue', label='Global')\n",
    "plt.scatter(x, y_eu, s=10, color='red', label='EU')\n",
    "plt.scatter(x, y_na, s=10, color='green', label='N. America')\n",
    "plt.scatter(x, y_other, s=10, color='orange', label='Other')\n",
    "plt.scatter(x, y_jp, s=10, color='purple', label='Japan')\n",
    "plt.legend(loc='upper left')\n",
    "plt.xlabel('Year')\n",
    "plt.ylabel('Millions of Sales')\n",
    "plt.suptitle('Sales for each region of Nintendo games')\n",
    "plt.xlim(1979, 2021)\n",
    "plt.show()"
   ]
  },
  {
   "cell_type": "markdown",
   "metadata": {},
   "source": [
    "- Show a scatter of North American sales vs. European sales for the top 10,000 games. Color-code them by genre.\n",
    "- Show a scatter of total Global sales per year"
   ]
  },
  {
   "cell_type": "code",
   "execution_count": 24,
   "metadata": {
    "collapsed": true
   },
   "outputs": [],
   "source": [
    "x = [range(1,10001)]\n"
   ]
  }
 ],
 "metadata": {
  "kernelspec": {
   "display_name": "Python 3",
   "language": "python",
   "name": "python3"
  },
  "language_info": {
   "codemirror_mode": {
    "name": "ipython",
    "version": 3
   },
   "file_extension": ".py",
   "mimetype": "text/x-python",
   "name": "python",
   "nbconvert_exporter": "python",
   "pygments_lexer": "ipython3",
   "version": "3.5.2+"
  }
 },
 "nbformat": 4,
 "nbformat_minor": 1
}
